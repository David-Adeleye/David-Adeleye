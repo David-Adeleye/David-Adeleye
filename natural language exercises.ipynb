{
  "nbformat": 4,
  "nbformat_minor": 0,
  "metadata": {
    "colab": {
      "provenance": [],
      "authorship_tag": "ABX9TyMZrlbXd2FKcOtw5JRPrTXy",
      "include_colab_link": true
    },
    "kernelspec": {
      "name": "python3",
      "display_name": "Python 3"
    },
    "language_info": {
      "name": "python"
    }
  },
  "cells": [
    {
      "cell_type": "markdown",
      "metadata": {
        "id": "view-in-github",
        "colab_type": "text"
      },
      "source": [
        "<a href=\"https://colab.research.google.com/github/David-Adeleye/David-Adeleye/blob/main/natural%20language%20exercises.ipynb\" target=\"_parent\"><img src=\"https://colab.research.google.com/assets/colab-badge.svg\" alt=\"Open In Colab\"/></a>"
      ]
    },
    {
      "cell_type": "code",
      "execution_count": 2,
      "metadata": {
        "colab": {
          "base_uri": "https://localhost:8080/"
        },
        "id": "W3AB7C10BB2y",
        "outputId": "fd5372c0-8026-49c8-fbfd-24e8d16e88a2"
      },
      "outputs": [
        {
          "output_type": "stream",
          "name": "stderr",
          "text": [
            "[nltk_data] Downloading package averaged_perceptron_tagger to\n",
            "[nltk_data]     /root/nltk_data...\n",
            "[nltk_data]   Unzipping taggers/averaged_perceptron_tagger.zip.\n"
          ]
        },
        {
          "output_type": "execute_result",
          "data": {
            "text/plain": [
              "True"
            ]
          },
          "metadata": {},
          "execution_count": 2
        }
      ],
      "source": [
        "#import nltk\n",
        "#nltk.download('averaged_perceptron_tagger')\n"
      ]
    },
    {
      "cell_type": "code",
      "source": [
        "#from nltk.tag import pos_tag\n",
        "some_tags = pos_tag([\"bobby\"])\n",
        "print(some_tags)"
      ],
      "metadata": {
        "colab": {
          "base_uri": "https://localhost:8080/"
        },
        "id": "al5nTlyGBeq2",
        "outputId": "f9fc823c-17af-40e9-cf0b-490091950da3"
      },
      "execution_count": 3,
      "outputs": [
        {
          "output_type": "stream",
          "name": "stdout",
          "text": [
            "[('bobby', 'NN')]\n"
          ]
        }
      ]
    },
    {
      "cell_type": "code",
      "source": [
        "#nltk.download('tagsets') #this is to download the tagsets so we can find out what the different pos tags mean\n",
        "nltk.help.upenn_tagset('NN')"
      ],
      "metadata": {
        "colab": {
          "base_uri": "https://localhost:8080/"
        },
        "id": "azU9ucU_COCF",
        "outputId": "6ade8f5a-7301-40d7-aa86-0fa0de138d3c"
      },
      "execution_count": 4,
      "outputs": [
        {
          "output_type": "stream",
          "name": "stdout",
          "text": [
            "NN: noun, common, singular or mass\n",
            "    common-carrier cabbage knuckle-duster Casino afghan shed thermostat\n",
            "    investment slide humour falloff slick wind hyena override subhumanity\n",
            "    machinist ...\n"
          ]
        },
        {
          "output_type": "stream",
          "name": "stderr",
          "text": [
            "[nltk_data] Downloading package tagsets to /root/nltk_data...\n",
            "[nltk_data]   Unzipping help/tagsets.zip.\n"
          ]
        }
      ]
    },
    {
      "cell_type": "code",
      "source": [
        "some_tags2 = pos_tag([\"walking\"])\n",
        "print(some_tags2)"
      ],
      "metadata": {
        "colab": {
          "base_uri": "https://localhost:8080/"
        },
        "id": "piVP2b7FCq7d",
        "outputId": "eb5cd17b-213a-49e9-f8e8-3c35c4706df7"
      },
      "execution_count": 7,
      "outputs": [
        {
          "output_type": "stream",
          "name": "stdout",
          "text": [
            "[('walking', 'VBG')]\n"
          ]
        }
      ]
    },
    {
      "cell_type": "code",
      "source": [
        "nltk.help.upenn_tagset('VBG')"
      ],
      "metadata": {
        "colab": {
          "base_uri": "https://localhost:8080/"
        },
        "id": "F7NK2jm0DdxW",
        "outputId": "32657943-f050-4474-d627-eac788931e46"
      },
      "execution_count": 8,
      "outputs": [
        {
          "output_type": "stream",
          "name": "stdout",
          "text": [
            "VBG: verb, present participle or gerund\n",
            "    telegraphing stirring focusing angering judging stalling lactating\n",
            "    hankerin' alleging veering capping approaching traveling besieging\n",
            "    encrypting interrupting erasing wincing ...\n"
          ]
        }
      ]
    },
    {
      "cell_type": "code",
      "source": [
        "some_tags3 = pos_tag([\"SECOND\"])\n",
        "print(some_tags3)"
      ],
      "metadata": {
        "colab": {
          "base_uri": "https://localhost:8080/"
        },
        "id": "LVIbFIy1D3_G",
        "outputId": "aeeddec8-7988-4df1-d631-7a2fc9132a56"
      },
      "execution_count": 9,
      "outputs": [
        {
          "output_type": "stream",
          "name": "stdout",
          "text": [
            "[('SECOND', 'JJ')]\n"
          ]
        }
      ]
    },
    {
      "cell_type": "code",
      "source": [
        "nltk.help.upenn_tagset('JJ')"
      ],
      "metadata": {
        "colab": {
          "base_uri": "https://localhost:8080/"
        },
        "id": "twGLIUquEKAH",
        "outputId": "22a14f4a-5432-4af9-94f0-b4f23634409c"
      },
      "execution_count": 10,
      "outputs": [
        {
          "output_type": "stream",
          "name": "stdout",
          "text": [
            "JJ: adjective or numeral, ordinal\n",
            "    third ill-mannered pre-war regrettable oiled calamitous first separable\n",
            "    ectoplasmic battery-powered participatory fourth still-to-be-named\n",
            "    multilingual multi-disciplinary ...\n"
          ]
        }
      ]
    },
    {
      "cell_type": "code",
      "source": [],
      "metadata": {
        "id": "3jwwoANGEQk_"
      },
      "execution_count": null,
      "outputs": []
    },
    {
      "cell_type": "markdown",
      "source": [
        "**Worksop2, Ex2**"
      ],
      "metadata": {
        "id": "twbizAz8EYt3"
      }
    },
    {
      "cell_type": "code",
      "source": [
        "nltk.download(\"punkt\")\n",
        "from nltk.tokenize import word_tokenize\n",
        "DS9_rule_of_acquisition_17 = \"\"\"A contract is a contract is a \n",
        "contract... but only between Ferengi.\"\"\"\n",
        "tokens = word_tokenize(DS9_rule_of_acquisition_17)\n",
        "tags = pos_tag(tokens)\n",
        "print(tokens)\n",
        "print(tags)"
      ],
      "metadata": {
        "colab": {
          "base_uri": "https://localhost:8080/"
        },
        "id": "6eVwRKCuEfvO",
        "outputId": "2e2d81b4-1a68-4b93-faf5-5ceae5566e16"
      },
      "execution_count": 15,
      "outputs": [
        {
          "output_type": "stream",
          "name": "stderr",
          "text": [
            "[nltk_data] Downloading package punkt to /root/nltk_data...\n",
            "[nltk_data]   Unzipping tokenizers/punkt.zip.\n"
          ]
        },
        {
          "output_type": "stream",
          "name": "stdout",
          "text": [
            "['A', 'contract', 'is', 'a', 'contract', 'is', 'a', 'contract', '...', 'but', 'only', 'between', 'Ferengi', '.']\n",
            "[('A', 'DT'), ('contract', 'NN'), ('is', 'VBZ'), ('a', 'DT'), ('contract', 'NN'), ('is', 'VBZ'), ('a', 'DT'), ('contract', 'NN'), ('...', ':'), ('but', 'CC'), ('only', 'RB'), ('between', 'IN'), ('Ferengi', 'NNP'), ('.', '.')]\n"
          ]
        }
      ]
    },
    {
      "cell_type": "code",
      "source": [],
      "metadata": {
        "id": "LlOd5DbdFpUv"
      },
      "execution_count": null,
      "outputs": []
    }
  ]
}